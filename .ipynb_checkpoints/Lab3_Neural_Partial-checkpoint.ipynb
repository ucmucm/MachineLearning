{
 "cells": [
  {
   "cell_type": "markdown",
   "metadata": {},
   "source": [
    "#####Author: Xiaoyu Zhang#####  \n",
    "#####N14457910#####   \n",
    "\n",
    "# Lab:  Model Selection for Neural Data\n",
    "\n",
    "Machine learning is a key tool for neuroscientists to understand how sensory and motor signals are encoded in the brain. In addition to improving our scientific understanding of neural phenomena, understanding neural encoding is critical for brain machine interfaces. In this lab, you will use model selection for performing some simple analysis on real neural signals. \n",
    "\n",
    "Before doing this lab, you should review the ideas in the [polynomial model selection demo](./polyfit.ipynb).  In addition to the concepts in that demo, you will learn to:\n",
    "* Load MATLAB data\n",
    "* Formulate models of different complexities using heuristic model selection\n",
    "* Fit a linear model for the different model orders\n",
    "* Select the optimal model via cross-validation\n",
    "\n",
    "The last stage of the lab uses LASSO estimation for model selection.  If you are doing this part of the lab, you should review the concepts in [LASSO demonstration](./prostate.ipynb) on the prostate cancer  dataset.  "
   ]
  },
  {
   "cell_type": "markdown",
   "metadata": {},
   "source": [
    "## Loading the data\n",
    "\n",
    "The data in this lab comes from neural recordings described in:\n",
    "\n",
    "<a href=\"http://jn.physiology.org/content/106/2/764.short\">\n",
    "Stevenson, Ian H., et al. \"Statistical assessment of the stability of neural movement representations.\" Journal of neurophysiology 106.2 (2011): 764-774</a>\n",
    "\n",
    "Neurons are the basic information processing units in the brain.  Neurons communicate with one another via *spikes* or *action potentials* which are brief events where voltage in the neuron rapidly rises then falls.  These spikes trigger the electro-chemical signals between one neuron and another.  In this experiment, the spikes were recorded from 196 neurons in the primary motor cortex (M1) of a monkey using an electrode array implanted onto the surface of a monkey's brain.  During the recording, the monkey performed several reaching tasks and the position and velocity of the hand was recorded as well.  \n",
    "\n",
    "The goal of the experiment is to try to *read the monkey's brain*:  That is, predict the hand motion from the neural signals from the motor cortex.\n",
    "\n",
    "We first load the basic packages."
   ]
  },
  {
   "cell_type": "code",
   "execution_count": 1,
   "metadata": {
    "collapsed": true
   },
   "outputs": [],
   "source": [
    "import numpy as np\n",
    "import matplotlib\n",
    "import matplotlib.pyplot as plt\n",
    "import scipy.io\n",
    "import sklearn.linear_model\n",
    "import sklearn.model_selection\n",
    "import numpy.polynomial.polynomial as poly\n",
    "from sklearn import preprocessing\n",
    "%matplotlib inline"
   ]
  },
  {
   "cell_type": "markdown",
   "metadata": {},
   "source": [
    "The full data is available on the CRCNS website  http://crcns.org/data-sets/movements/dream.  This website has a large number of great datasets and can be used for projects as well.  To make this lab easier, I have pre-processed the data slightly and placed it in the file `StevensonV2.mat`, which is a MATLAB file.  You will need to have this file downloaded in the directory you are working on.\n",
    "\n",
    "Since MATLAB is widely-used, `python` provides method for loading MATLAB `mat` files.  We can use these commands to load the data as follows."
   ]
  },
  {
   "cell_type": "code",
   "execution_count": 2,
   "metadata": {
    "collapsed": true
   },
   "outputs": [],
   "source": [
    "mat_dict = scipy.io.loadmat('StevensonV2.mat')"
   ]
  },
  {
   "cell_type": "markdown",
   "metadata": {},
   "source": [
    "The returned structure, `mat_dict`, is a dictionary with each of the MATLAB variables that were saved in the `.mat` file.  Use the `.keys()` method to list all the variables."
   ]
  },
  {
   "cell_type": "code",
   "execution_count": 3,
   "metadata": {},
   "outputs": [
    {
     "data": {
      "text/plain": [
       "dict_keys(['__header__', '__version__', '__globals__', 'Publication', 'timeBase', 'spikes', 'time', 'handVel', 'handPos', 'target', 'startBins', 'targets', 'startBinned'])"
      ]
     },
     "execution_count": 3,
     "metadata": {},
     "output_type": "execute_result"
    }
   ],
   "source": [
    "mat_dict.keys()"
   ]
  },
  {
   "cell_type": "markdown",
   "metadata": {},
   "source": [
    "We extract two variables, `spikes` and `handVel`, from the dictionary `mat_dict`, which represent the recorded spikes per neuron and the hand velocity.  We take the transpose of the spikes data so that it is in the form time bins $\\times$ number of neurons.  For the `handVel` data, we take the first component which is the motion in the $x$-direction."
   ]
  },
  {
   "cell_type": "code",
   "execution_count": 4,
   "metadata": {
    "collapsed": true
   },
   "outputs": [],
   "source": [
    "X0 = mat_dict['spikes'].T\n",
    "y0 = mat_dict['handVel'][0,:]"
   ]
  },
  {
   "cell_type": "markdown",
   "metadata": {},
   "source": [
    "The `spikes` matrix will be a `nt x nneuron` matrix where `nt` is the number of time bins and `nneuron` is the number of neurons.  Each entry `spikes[k,j]` is the number of spikes in time bin `k` from neuron `j`.  Use the `shape` method to find `nt` and `nneuron` and print the values."
   ]
  },
  {
   "cell_type": "code",
   "execution_count": 5,
   "metadata": {
    "collapsed": true
   },
   "outputs": [],
   "source": [
    "nt,nneuron = np.shape(X0)"
   ]
  },
  {
   "cell_type": "markdown",
   "metadata": {},
   "source": [
    "Now extract the `time` variable from the `mat_dict` dictionary.  Reshape this to a 1D array with `nt` components.  Each entry `time[k]` is the starting time of the time bin `k`.  Find the sampling time `tsamp` which is the time between measurements, and `ttotal` which is the total duration of the recording."
   ]
  },
  {
   "cell_type": "code",
   "execution_count": 6,
   "metadata": {
    "collapsed": true
   },
   "outputs": [],
   "source": [
    "time = mat_dict['time'].T\n",
    "\n",
    "tsamp = (time[1] - time[0])[0]\n",
    "ttotal = (time[nt-1] - time[0])[0]"
   ]
  },
  {
   "cell_type": "markdown",
   "metadata": {},
   "source": [
    "## Linear fitting on all the neurons\n",
    "\n",
    "First divide the data into training and test with approximately half the samples in each.  Let `Xtr` and `ytr` denote the training data and `Xts` and `yts` denote the test data."
   ]
  },
  {
   "cell_type": "code",
   "execution_count": 7,
   "metadata": {
    "collapsed": true
   },
   "outputs": [],
   "source": [
    "ntr = (int) (nt // 2)\n",
    "nts = nt - ntr\n",
    "\n",
    "Xtr = X0[:ntr,:]\n",
    "ytr = y0[:ntr]\n",
    "Xts = X0[ntr:,:]\n",
    "yts = y0[ntr:]"
   ]
  },
  {
   "cell_type": "markdown",
   "metadata": {},
   "source": [
    "Now, we begin by trying to fit a simple linear model using *all* the neurons as predictors.  To this end, use the `sklearn.linear_model` package to create a regression object, and fit the linear model to the training data."
   ]
  },
  {
   "cell_type": "code",
   "execution_count": 8,
   "metadata": {},
   "outputs": [
    {
     "data": {
      "text/plain": [
       "LinearRegression(copy_X=True, fit_intercept=True, n_jobs=1, normalize=False)"
      ]
     },
     "execution_count": 8,
     "metadata": {},
     "output_type": "execute_result"
    }
   ],
   "source": [
    "regr = sklearn.linear_model.LinearRegression()\n",
    "regr.fit(Xtr,ytr)"
   ]
  },
  {
   "cell_type": "markdown",
   "metadata": {},
   "source": [
    "Measure and print the normalized RSS on the test data.  "
   ]
  },
  {
   "cell_type": "code",
   "execution_count": 9,
   "metadata": {},
   "outputs": [
    {
     "name": "stdout",
     "output_type": "stream",
     "text": [
      "RSS_Test = 4999054779645876502528.000000\n"
     ]
    }
   ],
   "source": [
    "yts_pred = regr.predict(Xts)\n",
    "RSS_ts = np.mean((yts_pred - yts) ** 2 ) / (np.std(yts) ** 2)\n",
    "print (\"RSS_Test = {:f}\".format(RSS_ts))"
   ]
  },
  {
   "cell_type": "markdown",
   "metadata": {},
   "source": [
    "You should see that the test error is enormous -- the model does not generalize to the test data at all. "
   ]
  },
  {
   "cell_type": "markdown",
   "metadata": {},
   "source": [
    "## Linear Fitting  with Heuristic Model Selection\n",
    "\n",
    "The above shows that we need a way to reduce the model complexity.  One simple idea is to select only the neurons that individually have a high correlation with the output.   \n",
    "\n",
    "Write code which computes the coefficient of determination, $R^2_k$, for each neuron $k$.  Plot the $R^2_k$ values.  \n",
    "\n",
    "You can use a for loop over each neuron, but if you want to make efficient code try to avoid the for loop and use [python broadcasting](../Basics/numpy_axes_broadcasting.ipynb)."
   ]
  },
  {
   "cell_type": "code",
   "execution_count": 10,
   "metadata": {},
   "outputs": [
    {
     "name": "stderr",
     "output_type": "stream",
     "text": [
      "/Users/Smiker/anaconda/lib/python3.6/site-packages/ipykernel_launcher.py:8: RuntimeWarning: invalid value encountered in true_divide\n",
      "  \n"
     ]
    },
    {
     "data": {
      "text/plain": [
       "<Container object of 3 artists>"
      ]
     },
     "execution_count": 10,
     "metadata": {},
     "output_type": "execute_result"
    },
    {
     "data": {
      "image/png": "[encoded data removed]",
      "text/plain": [
       "<matplotlib.figure.Figure at 0x105f0fa20>"
      ]
     },
     "metadata": {},
     "output_type": "display_data"
    }
   ],
   "source": [
    "ym = np.mean(y0)\n",
    "syy = np.mean((y0-ym)**2)\n",
    "\n",
    "Xm = np.mean(X0,axis = 0)\n",
    "X_demean = X0 - Xm[None,:]\n",
    "sxy = np.mean(X_demean * (y0[:,None]-ym),axis = 0)\n",
    "sxx = np.mean(X_demean **2,axis = 0)\n",
    "Rsq = (sxy)**2/sxx/syy\n",
    "\n",
    "plt.stem(Rsq)"
   ]
  },
  {
   "cell_type": "markdown",
   "metadata": {},
   "source": [
    "We see that many neurons have low correlation and can probably be discarded from the model.    \n",
    "\n",
    "Use the `np.argsort()` command to find the indices of the `d=100` neurons with the highest $R^2_k$ value.  Put the `d` indices into an array `Isel`.  Print the indices of the neurons with the 10 highest correlations."
   ]
  },
  {
   "cell_type": "code",
   "execution_count": 11,
   "metadata": {},
   "outputs": [
    {
     "name": "stdout",
     "output_type": "stream",
     "text": [
      "The neurons with the tem highest R^2 values = 193,98,195,120,67,136,153,152,58,192\n"
     ]
    }
   ],
   "source": [
    "d = 100\n",
    "Rsq_sort = np.argsort(Rsq)\n",
    "rsq_sort = np.flipud(Rsq_sort)[1:]\n",
    "Isel = rsq_sort[:d]\n",
    "print (\"The neurons with the tem highest R^2 values = \",end='')\n",
    "print (','.join(str(x) for x in Rsq_sort[nneuron-11:nneuron-1]))"
   ]
  },
  {
   "cell_type": "markdown",
   "metadata": {},
   "source": [
    "Fit a model using only the `d` neurons selected in the previous step and print both the test RSS per sample and the normalized test RSS."
   ]
  },
  {
   "cell_type": "code",
   "execution_count": 12,
   "metadata": {},
   "outputs": [
    {
     "name": "stdout",
     "output_type": "stream",
     "text": [
      "Test RSS per sample = 0.001572\n",
      "Normalized test RSS = 0.496102\n"
     ]
    }
   ],
   "source": [
    "Xtr = X0[:ntr,Isel]\n",
    "ytr = y0[:ntr]\n",
    "Xts = X0[ntr:,Isel]\n",
    "yts = y0[ntr:]\n",
    "\n",
    "regr = sklearn.linear_model.LinearRegression()\n",
    "regr.fit(Xtr,ytr)\n",
    "yts_pred = regr.predict(Xts)\n",
    "RSS_per = np.mean((yts_pred-yts)**2)\n",
    "RSS_normalized_test = np.mean((yts_pred - yts) ** 2 ) / (np.std(yts) ** 2)\n",
    "print (\"Test RSS per sample = {:f}\".format(RSS_per))\n",
    "print (\"Normalized test RSS = {:f}\".format(RSS_normalized_test))"
   ]
  },
  {
   "cell_type": "markdown",
   "metadata": {},
   "source": [
    "Create a scatter plot of the predicted vs. actual hand motion on the test data.  On the same plot, plot the line where `yts_hat = yts`."
   ]
  },
  {
   "cell_type": "code",
   "execution_count": 13,
   "metadata": {},
   "outputs": [
    {
     "data": {
      "text/plain": [
       "[<matplotlib.lines.Line2D at 0x10f00f9b0>]"
      ]
     },
     "execution_count": 13,
     "metadata": {},
     "output_type": "execute_result"
    },
    {
     "data": {
      "image/png": "[encoded data removed]",
      "text/plain": [
       "<matplotlib.figure.Figure at 0x10f3f9940>"
      ]
     },
     "metadata": {},
     "output_type": "display_data"
    }
   ],
   "source": [
    "plt.figure()\n",
    "plt.scatter(yts,yts_pred)\n",
    "plt.plot([-0.3,0.3],[-0.2,0.2],'r')"
   ]
  },
  {
   "cell_type": "markdown",
   "metadata": {},
   "source": [
    "## Using K-fold cross validation for the optimal number of neurons\n",
    "\n",
    "In the above, we fixed `d=100`.  We can use cross validation to try to determine the best number of neurons to use.  Try model orders with `d=10,20,...,190`.  For each value of `d`, use K-fold validation with 10 folds to estimate the test RSS.  For a data set this size, each fold will take a few seconds to compute, so it may be useful to print the progress."
   ]
  },
  {
   "cell_type": "code",
   "execution_count": 14,
   "metadata": {},
   "outputs": [
    {
     "data": {
      "text/plain": [
       "<matplotlib.figure.Figure at 0x11a35ed30>"
      ]
     },
     "metadata": {},
     "output_type": "display_data"
    }
   ],
   "source": [
    "plt.figure()\n",
    "nfold = 10\n",
    "kf = sklearn.model_selection.KFold(n_splits=nfold,shuffle=True)\n",
    "\n",
    "dtest = np.arange(10,200,10)\n",
    "nd = len(dtest)\n",
    "\n",
    "RSSts = np.zeros((nd,nfold))\n",
    "\n",
    "for it,d in enumerate(dtest):    \n",
    "    Isel = rsq_sort[:d]\n",
    "    Xtem = X0[:,Isel]\n",
    "   \n",
    "    for isplit, Ind in enumerate(kf.split(Xtem)):\n",
    "#        print (\"Processing for folder %d with order %d\"%(isplit,d))\n",
    "        Itr, Its = Ind\n",
    "        xtr = Xtem[Itr,:]\n",
    "        ytr = y0[Itr]\n",
    "        xts = Xtem[Its,:]\n",
    "        yts = y0[Its]\n",
    "        \n",
    "        regr = sklearn.linear_model.LinearRegression()\n",
    "        regr.fit(xtr,ytr)\n",
    "        yts_pred = regr.predict(xts)\n",
    "        RSSts[it,isplit] = np.mean((yts_pred - yts)**2)"
   ]
  },
  {
   "cell_type": "markdown",
   "metadata": {},
   "source": [
    "Compute the RSS test mean and standard error and plot them as a function of the model order `d` using the `plt.errorbar()` method. "
   ]
  },
  {
   "cell_type": "code",
   "execution_count": 15,
   "metadata": {},
   "outputs": [
    {
     "data": {
      "image/png": "[encoded data removed]",
      "text/plain": [
       "<matplotlib.figure.Figure at 0x11a1fd9b0>"
      ]
     },
     "metadata": {},
     "output_type": "display_data"
    }
   ],
   "source": [
    "RSS_mean = np.mean(RSSts,axis=1)\n",
    "RSS_std = np.std(RSSts,axis = 1)/np.sqrt(nfold-1)\n",
    "plt.errorbar(dtest,RSS_mean,yerr=RSS_std,fmt='-')\n",
    "plt.xlabel('Model order')\n",
    "plt.ylabel('Test RSS')\n",
    "plt.grid()"
   ]
  },
  {
   "cell_type": "markdown",
   "metadata": {},
   "source": [
    "Find the optimal order using the one standard error rule. Print the optimal value of `d` and the mean test RSS per sample at the optimal `d`.  "
   ]
  },
  {
   "cell_type": "code",
   "execution_count": 16,
   "metadata": {},
   "outputs": [
    {
     "name": "stdout",
     "output_type": "stream",
     "text": [
      "The selected model order is 160\n",
      "The optimal order is 100\n",
      "The RSS per sample at optimal order is 0.001499\n"
     ]
    },
    {
     "data": {
      "image/png": "[encoded data removed]",
      "text/plain": [
       "<matplotlib.figure.Figure at 0x11a2200f0>"
      ]
     },
     "metadata": {},
     "output_type": "display_data"
    }
   ],
   "source": [
    "imin = np.argmin(RSS_mean)\n",
    "print (\"The selected model order is {:d}\".format(dtest[imin]))\n",
    "\n",
    "plt.figure()\n",
    "imin = np.argmin(RSS_mean)\n",
    "RSS_tgt = RSS_mean[imin] + RSS_std[imin]\n",
    "\n",
    "I = np.where(RSS_mean <= RSS_tgt)[0]\n",
    "iopt = I[0]\n",
    "dopt = dtest[iopt]\n",
    "\n",
    "plt.errorbar(dtest,RSS_mean,yerr=RSS_std,fmt='o-')\n",
    "plt.plot([dtest[0],dtest[imin]],[RSS_tgt,RSS_tgt],'--')\n",
    "plt.plot([dopt,dopt],[0.0014,0.0020],'g--')\n",
    "plt.xlabel('Model order')\n",
    "plt.ylabel('Test RSS')\n",
    "plt.grid()\n",
    "\n",
    "print (\"The optimal order is {:d}\".format(dopt))\n",
    "RSS_persam = RSS_mean[iopt]\n",
    "print (\"The RSS per sample at optimal order is {:f}\".format(RSS_persam))"
   ]
  },
  {
   "cell_type": "markdown",
   "metadata": {},
   "source": [
    "## Using LASSO regression\n",
    "\n",
    "Instead of using the above heuristic to select the variables, we can use LASSO regression.  \n",
    "\n",
    "First use the `preprocessing.scale` method to standardize the data matrix `X0`.  Store the standardized values in `Xs`.  You do not need to standardize the response.  For this data, the `scale` routine may throw a warning that you are converting data types.  That is fine."
   ]
  },
  {
   "cell_type": "code",
   "execution_count": 17,
   "metadata": {},
   "outputs": [
    {
     "name": "stderr",
     "output_type": "stream",
     "text": [
      "/Users/Smiker/anaconda/lib/python3.6/site-packages/sklearn/utils/validation.py:429: DataConversionWarning: Data with input dtype uint8 was converted to float64 by the scale function.\n",
      "  warnings.warn(msg, _DataConversionWarning)\n"
     ]
    }
   ],
   "source": [
    "Xs = preprocessing.scale(X0)\n",
    "\n",
    "nfold = 10\n",
    "kf = sklearn.model_selection.KFold(n_splits=nfold,shuffle=True)\n",
    "model = sklearn.linear_model.Lasso(warm_start = True)"
   ]
  },
  {
   "cell_type": "markdown",
   "metadata": {},
   "source": [
    "Now, use the LASSO method to fit a model.  Use cross validation to select the regularization level `alpha`.  Use `alpha` values logarithmically spaced from `1e-5` to `0.1`, and use 10 fold cross validation.  "
   ]
  },
  {
   "cell_type": "code",
   "execution_count": 18,
   "metadata": {
    "collapsed": true
   },
   "outputs": [],
   "source": [
    "nalpha = 100\n",
    "alphas = np.logspace(-5,-1,nalpha)\n",
    "RSSts_lasso = np.zeros((nalpha,nfold))\n",
    "\n",
    "for ifold, Ind in enumerate(kf.split(Xs)):\n",
    "    Itr, Its = Ind\n",
    "    X_tr = Xs[Itr,:]\n",
    "    y_tr = y0[Itr]\n",
    "    X_ts = Xs[Its,:]\n",
    "    y_ts = y0[Its]\n",
    "    \n",
    "    for ia,a in enumerate(alphas):\n",
    "        \n",
    "        model.alpha = a\n",
    "        model.fit(X_tr,y_tr)\n",
    "        y_ts_pred = model.predict(X_ts)\n",
    "        RSSts_lasso[ia,ifold] = np.mean((y_ts_pred - y_ts) ** 2)"
   ]
  },
  {
   "cell_type": "markdown",
   "metadata": {},
   "source": [
    "Plot the mean test RSS and test RSS standard error with the `plt.errorbar` plot."
   ]
  },
  {
   "cell_type": "code",
   "execution_count": 19,
   "metadata": {},
   "outputs": [
    {
     "data": {
      "image/png": "[encoded data removed]",
      "text/plain": [
       "<matplotlib.figure.Figure at 0x1142814a8>"
      ]
     },
     "metadata": {},
     "output_type": "display_data"
    }
   ],
   "source": [
    "plt.figure()\n",
    "RSSts_mean_lasso = np.mean(RSSts_lasso,axis = 1)\n",
    "RSSts_std_lasso = np.std(RSSts_lasso,axis = 1)/np.sqrt(nfold - 1)\n",
    "plt.errorbar(alphas,RSSts_mean_lasso,yerr = RSSts_std_lasso,fmt='-')\n",
    "plt.xlabel('Alpha')\n",
    "plt.ylabel('Test RSS')\n",
    "plt.grid()"
   ]
  },
  {
   "cell_type": "markdown",
   "metadata": {},
   "source": [
    "Find the optimal `alpha` and mean test RSS using the one standard error rule."
   ]
  },
  {
   "cell_type": "code",
   "execution_count": 20,
   "metadata": {},
   "outputs": [
    {
     "name": "stdout",
     "output_type": "stream",
     "text": [
      "The optimal alpha is 0.000658\n"
     ]
    }
   ],
   "source": [
    "imina = np.argmin(RSSts_mean_lasso)\n",
    "\n",
    "RSS_tgt_lasso = RSSts_mean_lasso[imina] + RSSts_std_lasso[imina]\n",
    "I = np.where(RSSts_mean_lasso <= RSS_tgt_lasso)[0]\n",
    "iopt = I[-1]\n",
    "alpha_opt = alphas[iopt]\n",
    "print (\"The optimal alpha is %f\" % alpha_opt)"
   ]
  },
  {
   "cell_type": "markdown",
   "metadata": {},
   "source": [
    "Using the optimal alpha, recompute the predicted response variable on the whole data.  Plot the predicted vs. actual values."
   ]
  },
  {
   "cell_type": "code",
   "execution_count": 21,
   "metadata": {},
   "outputs": [
    {
     "data": {
      "text/plain": [
       "[<matplotlib.lines.Line2D at 0x114267278>]"
      ]
     },
     "execution_count": 21,
     "metadata": {},
     "output_type": "execute_result"
    },
    {
     "data": {
      "image/png": "[encoded data removed]",
      "text/plain": [
       "<matplotlib.figure.Figure at 0x114327f28>"
      ]
     },
     "metadata": {},
     "output_type": "display_data"
    }
   ],
   "source": [
    "plt.figure()\n",
    "model.alpha = alpha_opt\n",
    "model.fit(X0,y0)\n",
    "y_opt = model.predict(X0)\n",
    "plt.scatter(y0,y_opt)\n",
    "plt.plot([-0.3,0.3],[-0.2,0.2],'r')"
   ]
  }
 ],
 "metadata": {
  "anaconda-cloud": {},
  "kernelspec": {
   "display_name": "Python 3",
   "language": "python",
   "name": "python3"
  },
  "language_info": {
   "codemirror_mode": {
    "name": "ipython",
    "version": 3
   },
   "file_extension": ".py",
   "mimetype": "text/x-python",
   "name": "python",
   "nbconvert_exporter": "python",
   "pygments_lexer": "ipython3",
   "version": "3.6.1"
  }
 },
 "nbformat": 4,
 "nbformat_minor": 1
}
